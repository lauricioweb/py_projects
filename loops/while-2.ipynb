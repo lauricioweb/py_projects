{
 "cells": [
  {
   "cell_type": "markdown",
   "metadata": {},
   "source": [
    "- nao saira do loop enquanto nao for digitada a senha correta\n"
   ]
  },
  {
   "cell_type": "code",
   "execution_count": 2,
   "metadata": {},
   "outputs": [
    {
     "name": "stdout",
     "output_type": "stream",
     "text": [
      "senha incorreta, tente novamente\n",
      "senha incorreta, tente novamente\n",
      "senha incorreta, tente novamente\n",
      "senha incorreta, tente novamente\n",
      "senha incorreta, tente novamente\n",
      "seja bem vindo\n"
     ]
    }
   ],
   "source": [
    "senha = \"123\"\n",
    "senhaDigitada = input(\"digite sua senha\")\n",
    "while (senha != senhaDigitada) :\n",
    "   print(\"senha incorreta, tente novamente\")\n",
    "   senhaDigitada = input(\"digite sua senha\")\n",
    "print(\"seja bem vindo\")\n"
   ]
  },
  {
   "cell_type": "code",
   "execution_count": 1,
   "metadata": {},
   "outputs": [
    {
     "name": "stdout",
     "output_type": "stream",
     "text": [
      "94\n",
      "numero sorteado é maior, tente novamente\n",
      "numero sorteado é maior, tente novamente\n",
      "numero sorteado é maior, tente novamente\n",
      "numero sorteado é maior, tente novamente\n",
      "numero sorteado é menor, tente novamente\n",
      "numero sorteado é menor, tente novamente\n",
      "numero sorteado é maior, tente novamente\n",
      "numero sorteado é menor, tente novamente\n",
      "voce acertou o numero sorteado é 94 tentativas 9\n"
     ]
    }
   ],
   "source": [
    "import random\n",
    "\n",
    "numeroSorteado = random.randint(1,100); \n",
    "tentativas = 0\n",
    "print(numeroSorteado)\n",
    "\n",
    "while True:\n",
    "  \n",
    "  numeroDigitado = int(input(\"digite o numero sortedo\"))\n",
    "  tentativas += 1\n",
    "\n",
    "  if numeroDigitado < numeroSorteado:\n",
    "\n",
    "    print(\"numero sorteado é maior, tente novamente\")\n",
    "\n",
    "  elif numeroDigitado > numeroSorteado:\n",
    "\n",
    "    print(\"numero sorteado é menor, tente novamente\")\n",
    "\n",
    "  else:\n",
    "\n",
    "    print(f\"voce acertou o numero sorteado é {numeroSorteado} tentativas {tentativas}\")\n",
    "\n",
    "    break"
   ]
  },
  {
   "cell_type": "code",
   "execution_count": 5,
   "metadata": {},
   "outputs": [
    {
     "name": "stdout",
     "output_type": "stream",
     "text": [
      "20\n"
     ]
    }
   ],
   "source": [
    "numerosInteiro = 0\n",
    "\n",
    "while True:\n",
    "    \n",
    "  numeroDigitado = int(input(\"digite um numero inteiro\"))\n",
    "\n",
    "  if numeroDigitado != 0:\n",
    "    \n",
    "    numerosInteiro += numeroDigitado\n",
    "\n",
    "  else: \n",
    "\n",
    "    print(numerosInteiro)\n",
    "\n",
    "    break"
   ]
  },
  {
   "cell_type": "code",
   "execution_count": 9,
   "metadata": {},
   "outputs": [
    {
     "name": "stdout",
     "output_type": "stream",
     "text": [
      "maior numero digitado 10\n",
      "maior numero digitado 20\n",
      "maior numero digitado 220\n",
      "maior numero digitado 300\n",
      "maior numero digitado 300\n"
     ]
    }
   ],
   "source": [
    "maiorNumero = 0\n",
    "\n",
    "while True:\n",
    "  \n",
    "  numeroDigitado = int(input(\"Digite um numero inteiro positivo: ou numero negativo para encerrar\"))\n",
    "\n",
    "  if numeroDigitado > maiorNumero:\n",
    "    maiorNumero = numeroDigitado\n",
    "    print(f\"maior numero digitado {maiorNumero}\")\n",
    "    \n",
    "  elif numeroDigitado < 0:\n",
    "    \n",
    "    print(f\"maior numero digitado {maiorNumero}\")\n",
    "\n",
    "    break\n",
    "\n"
   ]
  },
  {
   "cell_type": "code",
<<<<<<< HEAD:loops/while-2.ipynb
   "execution_count": 2,
=======
   "execution_count": 40,
>>>>>>> 526e056 (exercices strings 2):while-2.ipynb
   "metadata": {},
   "outputs": [
    {
     "name": "stdout",
     "output_type": "stream",
     "text": [
<<<<<<< HEAD:loops/while-2.ipynb
      "seu saldo é 0\n",
      "deposito concluido com sucesso\n",
      "seu saldo é 900\n",
      "saque concluido com sucesso\n",
      "seu saldo é 479\n",
      "operacao finalizada\n"
=======
      "deposito concluido com sucesso\n",
      "seu saldo é R$242.00\n",
      "saque concluido com sucesso\n",
      "seu saldo é R$31.00\n"
     ]
    },
    {
     "ename": "ValueError",
     "evalue": "could not convert string to float: ''",
     "output_type": "error",
     "traceback": [
      "\u001b[0;31m---------------------------------------------------------------------------\u001b[0m",
      "\u001b[0;31mValueError\u001b[0m                                Traceback (most recent call last)",
      "Cell \u001b[0;32mIn[40], line 10\u001b[0m\n\u001b[1;32m      3\u001b[0m saldo \u001b[38;5;241m=\u001b[39m \u001b[38;5;241m220\u001b[39m\n\u001b[1;32m      7\u001b[0m \u001b[38;5;28;01mwhile\u001b[39;00m \u001b[38;5;28;01mTrue\u001b[39;00m:\n\u001b[1;32m      8\u001b[0m \n\u001b[1;32m      9\u001b[0m \u001b[38;5;66;03m# opções \u001b[39;00m\n\u001b[0;32m---> 10\u001b[0m   operacao \u001b[38;5;241m=\u001b[39m \u001b[38;5;28;43mfloat\u001b[39;49m\u001b[43m(\u001b[49m\u001b[38;5;28;43minput\u001b[39;49m\u001b[43m(\u001b[49m\u001b[38;5;124;43m\"\u001b[39;49m\u001b[38;5;124;43mqual operação voce deseja realizar: \u001b[39;49m\u001b[38;5;130;43;01m\\n\u001b[39;49;00m\u001b[38;5;124;43m1- verificar saldo \u001b[39;49m\u001b[38;5;130;43;01m\\n\u001b[39;49;00m\u001b[38;5;124;43m2- Depositar \u001b[39;49m\u001b[38;5;130;43;01m\\n\u001b[39;49;00m\u001b[38;5;124;43m3- sacar \u001b[39;49m\u001b[38;5;130;43;01m\\n\u001b[39;49;00m\u001b[38;5;124;43m4- sair\u001b[39;49m\u001b[38;5;124;43m\"\u001b[39;49m\u001b[43m)\u001b[49m\u001b[43m)\u001b[49m\n\u001b[1;32m     12\u001b[0m   \u001b[38;5;28;01mif\u001b[39;00m operacao \u001b[38;5;241m==\u001b[39m \u001b[38;5;241m1\u001b[39m:\n\u001b[1;32m     14\u001b[0m     \u001b[38;5;28mprint\u001b[39m(\u001b[38;5;124mf\u001b[39m\u001b[38;5;124m\"\u001b[39m\u001b[38;5;124mseu saldo é R$\u001b[39m\u001b[38;5;132;01m{\u001b[39;00msaldo\u001b[38;5;132;01m:\u001b[39;00m\u001b[38;5;124m.2f\u001b[39m\u001b[38;5;132;01m}\u001b[39;00m\u001b[38;5;124m\"\u001b[39m)\n",
      "\u001b[0;31mValueError\u001b[0m: could not convert string to float: ''"
>>>>>>> 526e056 (exercices strings 2):while-2.ipynb
     ]
    }
   ],
   "source": [
    "# simulação caixa eletronico\n",
    "\n",
    "saldo = 220\n",
    "\n",
    "\n",
    "\n",
    "while True:\n",
    "\n",
    "# opções \n",
    "  operacao = float(input(\"qual operação voce deseja realizar: \\n1- verificar saldo \\n2- Depositar \\n3- sacar \\n4- sair\"))\n",
    "  \n",
    "  if operacao == 1:\n",
    "\n",
    "    print(f\"seu saldo é R${saldo:.2f}\")\n",
    "   \n",
    "\n",
    "  elif operacao == 2:\n",
    "  \n",
    "    deposito = float(input(\"insira o valor a ser depositado: \"))\n",
    "    saldo += deposito\n",
    "    print(\"deposito concluido com sucesso\")\n",
    "    print(f\"seu saldo é R${saldo:.2f}\")\n",
    "    operacao = int(input(\"qual operação voce deseja realizar: \\n1- verificar saldo \\n 2- Depositar \\n 3- sacar \\n 4- sair\"))\n",
    "\n",
    "  elif operacao == 3:\n",
    "    \n",
    "    valorSaque = float(input(\"insira o valor a ser sacado: \"))\n",
    "\n",
    "    if valorSaque > saldo:\n",
    "\n",
    "      print(\"saldo insuficiente \")\n",
    "      print(f\"saldo atual R${saldo:.2f}\")\n",
    "     \n",
    "    \n",
    "    else:\n",
    "      saldo -= valorSaque\n",
    "      print(\"saque concluido com sucesso\")\n",
    "      print(f\"seu saldo é R${saldo:.2f}\")\n",
    "       \n",
    "\n",
    "  elif operacao == 4:\n",
    "   print(\"operacao finalizada\")\n",
    "   break  \n",
    "\n",
    "  else:\n",
    "    print(\"Operação invalida\")\n",
    "     \n",
    "\n"
   ]
  },
  {
   "cell_type": "code",
   "execution_count": null,
   "metadata": {},
   "outputs": [],
   "source": []
  }
 ],
 "metadata": {
  "kernelspec": {
   "display_name": "Python 3",
   "language": "python",
   "name": "python3"
  },
  "language_info": {
   "codemirror_mode": {
    "name": "ipython",
    "version": 3
   },
   "file_extension": ".py",
   "mimetype": "text/x-python",
   "name": "python",
   "nbconvert_exporter": "python",
   "pygments_lexer": "ipython3",
   "version": "3.10.12"
  }
 },
 "nbformat": 4,
 "nbformat_minor": 2
}
