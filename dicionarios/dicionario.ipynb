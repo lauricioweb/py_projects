{
 "cells": [
  {
   "cell_type": "code",
   "execution_count": 1,
   "metadata": {},
   "outputs": [
    {
     "name": "stdout",
     "output_type": "stream",
     "text": [
      "{'nome': 'lauricio', 'idade': 22}\n"
     ]
    }
   ],
   "source": [
    "pessoa = {\"nome\":\"lauricio\",\"idade\":22,\"email\":\"lauricio@gmail.com\"}\n",
    "\n",
    "#removendo pares de chaves\n",
    "del pessoa[\"email\"]\n",
    "print(pessoa)"
   ]
  },
  {
   "cell_type": "code",
   "execution_count": 4,
   "metadata": {},
   "outputs": [
    {
     "name": "stdout",
     "output_type": "stream",
     "text": [
      "{'nome': 'televisao', 'preco': 299, 'marca': 'panasonic', 'oferta': False}\n",
      "{'nome': 'televisao', 'preco': 244, 'marca': 'panasonic', 'oferta': False}\n",
      "{'nome': 'televisao', 'preco': 244}\n",
      "panasonic\n",
      "00000000000000\n",
      "copia1 {'nome': 'televisao'}\n",
      "copia {'nome': 'televisao'}\n"
     ]
    }
   ],
   "source": [
    "# dicionarios\n",
    "\n",
    "#operações basicas \n",
    "\"\"\"\n",
    "    adicionando itens\n",
    "    atualizando itens\n",
    "    removendo itens\n",
    "    (del, pop(), popitem())\n",
    "    copiando dicionarios (copy(), dict())\n",
    "\"\"\"\n",
    "\n",
    "#  adicionando itens\n",
    "\n",
    "produto = {\"nome\":\"televisao\",\"preco\":299}\n",
    "\n",
    "produto[\"marca\"] = \"panasonic\"\n",
    "produto[\"oferta\"] = False\n",
    "\n",
    "print(produto)\n",
    "\n",
    "\n",
    "# atualizando itens\n",
    "\n",
    "produto[\"preco\"] = 244\n",
    "\n",
    "print(produto)\n",
    "\n",
    "# removendo item (del, pop(), popitem())\n",
    "\n",
    "del produto[\"oferta\"] # apenas remove\n",
    "marca_removida = produto.pop(\"marca\")\n",
    "print(produto)\n",
    "print(marca_removida)\n",
    "\n",
    "ultimo_item = produto.popitem() # remove e retoanr o ultimo item\n",
    "\n",
    "\n",
    "#fazendo copias de um dicionario\n",
    "\n",
    "copia_prod = produto.copy()\n",
    "copia2_prod = dict(produto)\n",
    "\n",
    "print(\"00000000000000\")\n",
    "print(\"copia1\", copia_prod)\n",
    "print(\"copia\", copia2_prod)\n",
    "\n"
   ]
  }
 ],
 "metadata": {
  "kernelspec": {
   "display_name": "Python 3",
   "language": "python",
   "name": "python3"
  },
  "language_info": {
   "codemirror_mode": {
    "name": "ipython",
    "version": 3
   },
   "file_extension": ".py",
   "mimetype": "text/x-python",
   "name": "python",
   "nbconvert_exporter": "python",
   "pygments_lexer": "ipython3",
   "version": "3.10.12"
  }
 },
 "nbformat": 4,
 "nbformat_minor": 2
}
