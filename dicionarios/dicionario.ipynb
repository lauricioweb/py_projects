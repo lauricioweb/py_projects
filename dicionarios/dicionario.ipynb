{
 "cells": [
  {
   "cell_type": "code",
   "execution_count": 1,
   "metadata": {},
   "outputs": [
    {
     "name": "stdout",
     "output_type": "stream",
     "text": [
      "{'nome': 'lauricio', 'idade': 22}\n"
     ]
    }
   ],
   "source": [
    "pessoa = {\"nome\":\"lauricio\",\"idade\":22,\"email\":\"lauricio@gmail.com\"}\n",
    "\n",
    "#removendo pares de chaves\n",
    "del pessoa[\"email\"]\n",
    "print(pessoa)"
   ]
  },
  {
   "cell_type": "code",
   "execution_count": 2,
   "metadata": {},
   "outputs": [
    {
     "name": "stdout",
     "output_type": "stream",
     "text": [
      "chave>: nome, valor>: francisca\n",
      "chave>: idade, valor>: 22\n",
      "chave>: ano, valor>: 4\n"
     ]
    }
   ],
   "source": [
    "# percorrendo dicionario com um loop\n",
    "\n",
    "aluno = {\"nome\":\"francisca\",\"idade\":22,\"ano\":4}\n",
    "\n",
    "for key, value in aluno.items():\n",
    "    print(f\"chave>: {key}, valor>: {value}\")\n",
    "\n"
   ]
  },
  {
   "cell_type": "code",
   "execution_count": null,
   "metadata": {},
   "outputs": [],
   "source": []
  }
 ],
 "metadata": {
  "kernelspec": {
   "display_name": "Python 3",
   "language": "python",
   "name": "python3"
  },
  "language_info": {
   "codemirror_mode": {
    "name": "ipython",
    "version": 3
   },
   "file_extension": ".py",
   "mimetype": "text/x-python",
   "name": "python",
   "nbconvert_exporter": "python",
   "pygments_lexer": "ipython3",
   "version": "3.10.12"
  }
 },
 "nbformat": 4,
 "nbformat_minor": 2
}
