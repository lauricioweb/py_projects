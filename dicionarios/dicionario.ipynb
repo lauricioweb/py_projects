{
 "cells": [
  {
   "cell_type": "code",
   "execution_count": 1,
   "metadata": {},
   "outputs": [
    {
     "name": "stdout",
     "output_type": "stream",
     "text": [
      "{'nome': 'lauricio', 'idade': 22}\n"
     ]
    }
   ],
   "source": [
    "pessoa = {\"nome\":\"lauricio\",\"idade\":22,\"email\":\"lauricio@gmail.com\"}\n",
    "\n",
    "#removendo pares de chaves\n",
    "del pessoa[\"email\"]\n",
    "print(pessoa)"
   ]
  },
  {
   "cell_type": "code",
   "execution_count": 1,
   "metadata": {},
   "outputs": [
    {
     "name": "stdout",
     "output_type": "stream",
     "text": [
      "{'nome': 'televisao', 'preco': 299, 'marca': 'panasonic', 'oferta': False}\n",
      "{'nome': 'televisao', 'preco': 244, 'marca': 'panasonic', 'oferta': False}\n",
      "{'nome': 'televisao', 'preco': 244}\n",
      "panasonic\n",
      "00000000000000\n",
      "copia1 {'nome': 'televisao'}\n",
      "copia {'nome': 'televisao'}\n"
     ]
    }
   ],
   "source": [
    "# dicionarios\n",
    "\n",
    "#operações basicas \n",
    "\"\"\"\n",
    "    adicionando itens\n",
    "    atualizando itens\n",
    "    removendo itens\n",
    "    (del, pop(), popitem())\n",
    "    copiando dicionarios (copy(), dict())\n",
    "\"\"\"\n",
    "\n",
    "#  adicionando itens\n",
    "\n",
    "produto = {\"nome\":\"televisao\",\"preco\":299}\n",
    "\n",
    "produto[\"marca\"] = \"panasonic\"\n",
    "produto[\"oferta\"] = False\n",
    "\n",
    "print(produto)\n",
    "\n",
    "\n",
    "# atualizando itens\n",
    "\n",
    "produto[\"preco\"] = 244\n",
    "\n",
    "print(produto)\n",
    "\n",
    "# removendo item (del, pop(), popitem())\n",
    "\n",
    "del produto[\"oferta\"] # apenas remove\n",
    "marca_removida = produto.pop(\"marca\")\n",
    "print(produto)\n",
    "print(marca_removida)\n",
    "\n",
    "ultimo_item = produto.popitem() # remove e retoanr o ultimo item\n",
    "\n",
    "\n",
    "#fazendo copias de um dicionario\n",
    "\n",
    "copia_prod = produto.copy()\n",
    "copia2_prod = dict(produto)\n",
    "\n",
    "print(\"00000000000000\")\n",
    "print(\"copia1\", copia_prod)\n",
    "print(\"copia\", copia2_prod)\n",
    "\n"
   ]
  },
  {
   "cell_type": "code",
   "execution_count": null,
   "metadata": {},
   "outputs": [
    {
     "name": "stdout",
     "output_type": "stream",
     "text": [
      "chaves  ['titulo', 'autor', 'ano']\n",
      "chaves  ['arte da guerra', 'sun tzu', 1992]\n",
      "chaves  [('titulo', 'arte da guerra'), ('autor', 'sun tzu'), ('ano', 1992)]\n",
      "clear() \n",
      "\n",
      "livros []\n",
      "update()\n",
      "livro atualizado {'titulo': 'arte da guerra', 'autor': 'lauricio', 'ano': 2025}\n",
      "fromkeys();  {'titulo': 'desconhecido', 'autor': 'desconhecido'}\n"
     ]
    }
   ],
   "source": [
    "# methodos de dicionarios\n",
    "\n",
    "# keys() values() items()\n",
    "livros = {\n",
    "    \"titulo\":\"arte da guerra\",\n",
    "    \"autor\":\"sun tzu\",\n",
    "    \"ano\":1992\n",
    "}\n",
    "print(\"chaves \", list(livros.keys()))\n",
    "print(\"chaves \", list(livros.values()))\n",
    "print(\"chaves \", list(livros.items())) # retornar a chave e valor em uma tupla\n",
    "\n",
    "print(\"clear() \\n\")\n",
    "copia_livro = livros.copy()\n",
    "copia_livro.clear() # limpa conteudo \n",
    "print(\"livros\", list(copia_livro.items()))\n",
    "\n",
    "\n",
    "print(\"update()\")\n",
    "\n",
    "\n",
    "atualizacoes = {\n",
    "    \"autor\":\"lauricio\",\n",
    "    \"ano\":2025\n",
    "}\n",
    "\n",
    "livros.update(atualizacoes)\n",
    "print(\"livro atualizado\", livros)\n",
    "\n",
    "chaves = [\"titulo\",\"autor\"]\n",
    "#dict cria um novo dicinario\n",
    "\n",
    "novo_livro = dict.fromkeys(chaves,\"desconhecido\")\n",
    "print(\"fromkeys(); \",  novo_livro)"
   ]
  },
  {
   "cell_type": "code",
   "execution_count": 15,
   "metadata": {},
   "outputs": [
    {
     "name": "stdout",
     "output_type": "stream",
     "text": [
      "5.3\n",
      "10\n",
      "8.2\n",
      "8.5\n",
      "materia:  matematica\n",
      "nota:  5.3\n",
      "materia:  geografia\n",
      "nota:  10\n",
      "materia:  historia\n",
      "nota:  8.2\n",
      "materia:  filosofia\n",
      "nota:  8.5\n"
     ]
    }
   ],
   "source": [
    "# iterando sobre dicionarios\n",
    "\n",
    "notas = {\n",
    "    \"matematica\":5.3,\n",
    "    \"geografia\":10,\n",
    "    \"historia\":8.2,\n",
    "    \"filosofia\":8.5\n",
    "}\n",
    "\n",
    "# para pegar  apenas as chaves use .keys()\n",
    "# para pegar  apenas os valores use .values()\n",
    "for materias in notas.values():\n",
    "    print(materias)\n",
    "\n",
    "\n",
    "# itetrando sobre a chave e valor com items()\n",
    "\n",
    "for materia, notas in notas.items():\n",
    "    print(\"materia: \", materia)\n",
    "    print(\"nota: \", notas)\n"
   ]
  },
  {
   "cell_type": "code",
   "execution_count": 22,
   "metadata": {},
   "outputs": [
    {
     "name": "stdout",
     "output_type": "stream",
     "text": [
      "1.3\n",
      "materias do maria\n",
      "matematica\n",
      "ciencias\n",
      "geografia\n",
      "-----------\n",
      "materias do francisca\n",
      "matematica\n",
      "ciencias\n",
      "geografia\n",
      "-----------\n"
     ]
    }
   ],
   "source": [
    "# diucionarios aninhados\n",
    "alunos = {\n",
    "    \"maria\":{\n",
    "        \"matematica\":2.3,\n",
    "        \"ciencias\":4.3,\n",
    "        \"geografia\":6.3\n",
    "    },\n",
    "    \"francisca\":{\n",
    "        \"matematica\":1.3,\n",
    "        \"ciencias\":6.3,\n",
    "        \"geografia\":2.3\n",
    "    },\n",
    "    \n",
    "}\n",
    "\n",
    "print(alunos[\"francisca\"][\"matematica\"]) \n",
    "\n",
    "for aluno in alunos:\n",
    "    print(f\"materias do {aluno}\")\n",
    "    for materia in alunos[aluno]:\n",
    "        print(materia)\n",
    "    print(\"-----------\")"
   ]
  },
  {
   "cell_type": "code",
   "execution_count": 24,
   "metadata": {},
   "outputs": [
    {
     "name": "stdout",
     "output_type": "stream",
     "text": [
      "{1: 1, 2: 4, 3: 9, 4: 16, 5: 25}\n",
      "{1: 1, 2: 4, 3: 9, 4: 16, 5: 25}\n"
     ]
    }
   ],
   "source": [
    "# compreensão dicionarios\n",
    "\n",
    "# sintxe basica:\n",
    "#{chave : valor  for item in iteravel}\n",
    "\n",
    "quadrado = {x: x**2 for x in range(1,6)}\n",
    "print(quadrado)\n",
    "\n",
    "# loop\n",
    "quadrados = {}\n",
    "for x in range(1,6):\n",
    "    quadrados[x] = x**2\n",
    "\n",
    "print(quadrados)"
   ]
  }
 ],
 "metadata": {
  "kernelspec": {
   "display_name": "Python 3",
   "language": "python",
   "name": "python3"
  },
  "language_info": {
   "codemirror_mode": {
    "name": "ipython",
    "version": 3
   },
   "file_extension": ".py",
   "mimetype": "text/x-python",
   "name": "python",
   "nbconvert_exporter": "python",
   "pygments_lexer": "ipython3",
   "version": "3.10.12"
  }
 },
 "nbformat": 4,
 "nbformat_minor": 2
}
