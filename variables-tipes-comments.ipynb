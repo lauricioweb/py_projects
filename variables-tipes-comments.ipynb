{
 "cells": [
  {
   "cell_type": "code",
   "execution_count": 13,
   "id": "d01c38fb",
   "metadata": {},
   "outputs": [
    {
     "ename": "SyntaxError",
     "evalue": "invalid syntax (935271172.py, line 56)",
     "output_type": "error",
     "traceback": [
      "\u001b[0;36m  Cell \u001b[0;32mIn[13], line 56\u001b[0;36m\u001b[0m\n\u001b[0;31m    -\u001b[0m\n\u001b[0m     ^\u001b[0m\n\u001b[0;31mSyntaxError\u001b[0m\u001b[0;31m:\u001b[0m invalid syntax\n"
     ]
    }
   ],
   "source": [
    "#comentatio \n",
    "\"\"\"\n",
    "comentando muitas linjhas\n",
    "\"\"\"\n",
    "\n",
    "#tipo inteiro (int);\n",
    "inteiro = 33;\n",
    "\n",
    "#tipo flutuante (float);\n",
    "flutuante = 33.2;\n",
    "\n",
    "#tipo complexo (complex);\n",
    "complexo = 3 + 2j;\n",
    "\n",
    "#tipo string (str);\n",
    "texto = \"lauricio és boim\";\n",
    "\n",
    "print(\"inteiro:\", inteiro);\n",
    "print(\"flutuante:\", flutuante);\n",
    "print(\"complexo:\", complexo);\n",
    "print(\"string:\", texto);\n",
    "\n",
    "\n",
    "#listas arrays (list);\n",
    "#são uma coleção ordenada de valores mutaveis acessadas por chave e valor;\n",
    "lista = [1,2,3];\n",
    "\n",
    "print(\"lista:\", lista);\n",
    "\n",
    "#tuplas (tuple) iuma coleção ordenada de valores imultaveis;\n",
    "tupla = (1,2,3);\n",
    "\n",
    "print (\"tupla:\", tupla);\n",
    "\n",
    "#conjunto (set) ima coleção de valores nao ordenada de intens unicos;\n",
    "conjunto = {2,4,3}\n",
    "\n",
    "print(\"conjunto:\", conjunto);\n",
    "\n",
    "#dicionario (dict) uma coleção nao ordenada de pares chave-valor\n",
    "dicionario = {\"chave\":\"valor\"}\n",
    "\n",
    "print(\"dicionario\", dicionario);\n",
    "\n",
    "#boleanos (bool) valoreso verdadeiro ou falso;\n",
    "booleano = True;\n",
    "\n",
    "print(\"Booleano:\", booleano);\n",
    "\n",
    "#noneType (None) um tipo especial que representa ausencia de valor;\n",
    "nenhum = None;\n",
    "print(\"nonetyope\", nenhum);\n",
    "\n",
    "\n"
   ]
  },
  {
   "cell_type": "code",
   "execution_count": 15,
   "id": "37d05af5",
   "metadata": {},
   "outputs": [
    {
     "name": "stdout",
     "output_type": "stream",
     "text": [
      "<class 'str'>\n",
      "<class 'str'>\n"
     ]
    }
   ],
   "source": [
    "#OBTENDO O TIPO DE UMA VARIAVEL (TYPE);\n",
    "nome = \"lauricio\";\n",
    "sobrenome = str(\"de Sousa\"); #nome o valor passado para a função str() será convertido para string e retornado o valor passado\n",
    "\n",
    "idade = str(33); # nesse caso memso o valor sendo int será convertido para string;\n",
    "\n",
    "#obtendo o tipo de uma varivel \n",
    "\n",
    "print(type(idade));\n",
    "\n",
    "print(type(nome));\n"
   ]
  },
  {
   "cell_type": "code",
   "execution_count": 17,
   "id": "5f81cabb",
   "metadata": {},
   "outputs": [
    {
     "name": "stdout",
     "output_type": "stream",
     "text": [
      "234\n"
     ]
    }
   ],
   "source": [
    "#as variaveis diferenciam letras maiusculas de minusculas;\n",
    "\n",
    "i = 22;\n",
    "I = 234;\n",
    "print(I);"
   ]
  },
  {
   "cell_type": "code",
   "execution_count": 19,
   "id": "85d4571a",
   "metadata": {},
   "outputs": [
    {
     "name": "stdout",
     "output_type": "stream",
     "text": [
      "sou1\n"
     ]
    }
   ],
   "source": [
    "#declarando varias variaveis \n",
    "\"\"\"\n",
    "atribuindo valores a variaveis em apenas uma linha.;\n",
    "\"\"\"\n",
    "var1, var2, var3 = \"sou1\",\"sou2\", \"sou3\";\n",
    "print(var1);"
   ]
  },
  {
   "cell_type": "code",
   "execution_count": 21,
   "id": "158ace5d",
   "metadata": {},
   "outputs": [
    {
     "name": "stdout",
     "output_type": "stream",
     "text": [
      "layu\n",
      "layu\n",
      "layu\n"
     ]
    }
   ],
   "source": [
    "#podemos atribuir o mesmo valor a varias variaveis\n",
    "\n",
    "var1 = var2 = var3 = \"layu\";\n",
    "\n",
    "print(var1);\n",
    "print(var2);\n",
    "print(var3);\n"
   ]
  },
  {
   "cell_type": "code",
   "execution_count": 22,
   "id": "cb007ee3",
   "metadata": {},
   "outputs": [
    {
     "name": "stdout",
     "output_type": "stream",
     "text": [
      "text1\n",
      "texto2\n",
      "texto3\n"
     ]
    }
   ],
   "source": [
    "#se tiver uma coleção de valores em uma lista, podemos extrair em variavoeis. isso é chamado de descompactar\n",
    "\n",
    "exemplo = \"text1\",\"texto2\", \"texto3\";\n",
    "\n",
    "var1, var2, var3 = exemplo;\n",
    "\n",
    "\n",
    "print(var1);\n",
    "print(var2);\n",
    "print(var3);\n",
    "\n",
    "\n",
    "\n"
   ]
  }
 ],
 "metadata": {
  "kernelspec": {
   "display_name": "Python 3 (ipykernel)",
   "language": "python",
   "name": "python3"
  },
  "language_info": {
   "codemirror_mode": {
    "name": "ipython",
    "version": 3
   },
   "file_extension": ".py",
   "mimetype": "text/x-python",
   "name": "python",
   "nbconvert_exporter": "python",
   "pygments_lexer": "ipython3",
   "version": "3.11.4"
  }
 },
 "nbformat": 4,
 "nbformat_minor": 5
}
