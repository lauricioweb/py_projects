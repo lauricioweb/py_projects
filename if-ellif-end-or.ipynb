{
 "cells": [
  {
   "cell_type": "code",
   "execution_count": 2,
   "id": "5c58c4be",
   "metadata": {},
   "outputs": [
    {
     "name": "stdout",
     "output_type": "stream",
     "text": [
      "numero1 é maior que numero2\n"
     ]
    }
   ],
   "source": [
    "#if\n",
    "\n",
    "numero1 = 90\n",
    "numero2 = 12\n",
    "\n",
    "if numero1 > numero2:\n",
    "     print(\"numero1 é maior que numero2\")"
   ]
  },
  {
   "cell_type": "code",
   "execution_count": 6,
   "id": "66eed5ee",
   "metadata": {},
   "outputs": [
    {
     "name": "stdout",
     "output_type": "stream",
     "text": [
      "numero1 e numero2 são iguais\n"
     ]
    }
   ],
   "source": [
    "#elif\n",
    "numero1 = 33\n",
    "numero2 = 33 \n",
    "\n",
    "if numero1 > numero2:\n",
    "    print(\"sim numero1 é maior que numero2\")\n",
    "elif numero1 == numero2:\n",
    "    print(\"numero1 e numero2 são iguais\")\n"
   ]
  },
  {
   "cell_type": "code",
   "execution_count": 6,
   "id": "224fdc23",
   "metadata": {},
   "outputs": [
    {
     "name": "stdout",
     "output_type": "stream",
     "text": [
      "3\n"
     ]
    },
    {
     "name": "stdin",
     "output_type": "stream",
     "text": [
      "Qual o numero sorteado ? 2\n"
     ]
    },
    {
     "name": "stdout",
     "output_type": "stream",
     "text": [
      "você errou tente novamente\n"
     ]
    },
    {
     "name": "stdin",
     "output_type": "stream",
     "text": [
      "Qual o numero sorteado ? e\n"
     ]
    }
   ],
   "source": [
    "#exercicio \n",
    "# encontre o numero\n",
    "import random\n",
    "\n",
    "numero = random.randint(1,10)\n",
    "print(numero)\n",
    "\n",
    "numero_passado = int(input(\"Qual o numero sorteado ?\"))\n",
    "\n",
    "if numero_passado == numero:\n",
    "    print(\"parabens você acertou\")\n",
    "else:\n",
    "    print(\"você errou tente novamente\")\n",
    "    \n",
    "numero_passado = input(\"Qual o numero sorteado ?\")\n"
   ]
  },
  {
   "cell_type": "code",
   "execution_count": 1,
   "id": "4e15b1d0-5a31-4ca2-88b9-4e2ab8595063",
   "metadata": {},
   "outputs": [
    {
     "name": "stdin",
     "output_type": "stream",
     "text": [
      "qual a sua idade ? 22\n"
     ]
    },
    {
     "name": "stdout",
     "output_type": "stream",
     "text": [
      "voce pode votar\n"
     ]
    }
   ],
   "source": [
    "idade = int(input(\"qual a sua idade ?\"))\n",
    "\n",
    "if idade >= 18:\n",
    "    print(\"voce pode votar\")\n",
    "else:\n",
    "    print(\"voce não pode votar\")"
   ]
  },
  {
   "cell_type": "code",
   "execution_count": 6,
   "id": "829df168-9576-4d81-949b-fb510164e798",
   "metadata": {},
   "outputs": [
    {
     "name": "stdout",
     "output_type": "stream",
     "text": [
      "41 é maior que 5\n"
     ]
    }
   ],
   "source": [
    "# if elif else\n",
    "\n",
    "n1 = 41\n",
    "n2 = 5\n",
    "\n",
    "if n1 > n2:\n",
    "    print(f\"{n1} é maior que {n2}\")\n",
    "elif n1 == n2:\n",
    "    print(f\"{n1} é igual {n2}\")\n",
    "else:\n",
    "   print(f\"{n1} é menor que {n2}\")\n",
    "\n",
    "\n"
   ]
  },
  {
   "cell_type": "code",
   "execution_count": 12,
   "id": "5aab3553-6c7f-4227-b96a-deec620cf116",
   "metadata": {},
   "outputs": [
    {
     "name": "stdin",
     "output_type": "stream",
     "text": [
      "Insira a nota do estudante 22\n"
     ]
    },
    {
     "name": "stdout",
     "output_type": "stream",
     "text": [
      "Insuficiente\n"
     ]
    }
   ],
   "source": [
    "# exercicio nota do estudante\n",
    "\n",
    "nota = int(input(\"Insira a nota do estudante\"))\n",
    "\n",
    "if nota <= 100 and nota >= 90:\n",
    "    print(\"Exelente\")\n",
    "elif nota <= 89 and nota >= 70:\n",
    "    print(\"Bom\")\n",
    "elif nota <= 69 and nota >= 50:\n",
    "    print(\"Satisfatorio\")\n",
    "else:\n",
    "    print(\"Insuficiente\")\n"
   ]
  },
  {
   "cell_type": "code",
   "execution_count": 25,
   "id": "9ab99bc1-1a6c-42c2-a403-bfdf11a7d7ba",
   "metadata": {},
   "outputs": [
    {
     "ename": "SyntaxError",
     "evalue": "expected ':' (2802051530.py, line 9)",
     "output_type": "error",
     "traceback": [
      "\u001b[0;36m  Cell \u001b[0;32mIn[25], line 9\u001b[0;36m\u001b[0m\n\u001b[0;31m    else valor_compra < 500:\u001b[0m\n\u001b[0m         ^\u001b[0m\n\u001b[0;31mSyntaxError\u001b[0m\u001b[0;31m:\u001b[0m expected ':'\n"
     ]
    }
   ],
   "source": [
    "valor_compra = float(input(\"qual o valor da compra?\"))\n",
    "\n",
    "if valor_compra >= 1000:\n",
    "    desconto = 0.20 * valor_compra\n",
    "\n",
    "elif valor_compra < 1000 and valor_compra >= 500:\n",
    "    desconto = 0.10 * valor_compra\n",
    "\n",
    "else valor_compra < 500:\n",
    "    desconto = 0 * valor_compra\n",
    "\n",
    "valor_final = valor_compra - desconto\n",
    "print(f\"valor do desconto é R$ {desconto:.2f}\")\n",
    "print(f\"valor final da compra é R$ {valor_final:.2f}\")\n",
    "    \n",
    "    "
   ]
  }
 ],
 "metadata": {
  "kernelspec": {
   "display_name": "Python 3 (ipykernel)",
   "language": "python",
   "name": "python3"
  },
  "language_info": {
   "codemirror_mode": {
    "name": "ipython",
    "version": 3
   },
   "file_extension": ".py",
   "mimetype": "text/x-python",
   "name": "python",
   "nbconvert_exporter": "python",
   "pygments_lexer": "ipython3",
   "version": "3.10.12"
  }
 },
 "nbformat": 4,
 "nbformat_minor": 5
}
