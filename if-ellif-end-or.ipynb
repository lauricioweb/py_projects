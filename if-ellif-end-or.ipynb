{
 "cells": [
  {
   "cell_type": "code",
   "execution_count": 2,
   "id": "5c58c4be",
   "metadata": {},
   "outputs": [
    {
     "name": "stdout",
     "output_type": "stream",
     "text": [
      "numero1 é maior que numero2\n"
     ]
    }
   ],
   "source": [
    "#if\n",
    "\n",
    "numero1 = 90\n",
    "numero2 = 12\n",
    "\n",
    "if numero1 > numero2:\n",
    "     print(\"numero1 é maior que numero2\")"
   ]
  },
  {
   "cell_type": "code",
   "execution_count": 6,
   "id": "66eed5ee",
   "metadata": {},
   "outputs": [
    {
     "name": "stdout",
     "output_type": "stream",
     "text": [
      "numero1 e numero2 são iguais\n"
     ]
    }
   ],
   "source": [
    "#elif\n",
    "numero1 = 33\n",
    "numero2 = 33 \n",
    "\n",
    "if numero1 > numero2:\n",
    "    print(\"sim numero1 é maior que numero2\")\n",
    "elif numero1 == numero2:\n",
    "    print(\"numero1 e numero2 são iguais\")\n"
   ]
  },
  {
   "cell_type": "code",
   "execution_count": 6,
   "id": "224fdc23",
   "metadata": {},
   "outputs": [
    {
     "name": "stdout",
     "output_type": "stream",
     "text": [
      "3\n"
     ]
    },
    {
     "name": "stdin",
     "output_type": "stream",
     "text": [
      "Qual o numero sorteado ? 2\n"
     ]
    },
    {
     "name": "stdout",
     "output_type": "stream",
     "text": [
      "você errou tente novamente\n"
     ]
    },
    {
     "name": "stdin",
     "output_type": "stream",
     "text": [
      "Qual o numero sorteado ? e\n"
     ]
    }
   ],
   "source": [
    "#exercicio \n",
    "# encontre o numero\n",
    "import random\n",
    "\n",
    "numero = random.randint(1,10)\n",
    "print(numero)\n",
    "\n",
    "numero_passado = int(input(\"Qual o numero sorteado ?\"))\n",
    "\n",
    "if numero_passado == numero:\n",
    "    print(\"parabens você acertou\")\n",
    "else:\n",
    "    print(\"você errou tente novamente\")\n",
    "    \n",
    "numero_passado = input(\"Qual o numero sorteado ?\")\n"
   ]
  },
  {
   "cell_type": "code",
   "execution_count": 8,
   "id": "4e15b1d0-5a31-4ca2-88b9-4e2ab8595063",
   "metadata": {},
   "outputs": [
    {
     "name": "stdin",
     "output_type": "stream",
     "text": [
      "qual a sua idade ? 21\n"
     ]
    },
    {
     "name": "stdout",
     "output_type": "stream",
     "text": [
      "voce pode votar\n"
     ]
    }
   ],
   "source": [
    "idade = int(input(\"qual a sua idade ?\"))\n",
    "\n",
    "if idade >= 18:\n",
    "    print(\"voce pode votar\")\n",
    "else:\n",
    "    print(\"voce não pode votar\")"
   ]
  }
 ],
 "metadata": {
  "kernelspec": {
   "display_name": "Python 3 (ipykernel)",
   "language": "python",
   "name": "python3"
  },
  "language_info": {
   "codemirror_mode": {
    "name": "ipython",
    "version": 3
   },
   "file_extension": ".py",
   "mimetype": "text/x-python",
   "name": "python",
   "nbconvert_exporter": "python",
   "pygments_lexer": "ipython3",
   "version": "3.10.12"
  }
 },
 "nbformat": 4,
 "nbformat_minor": 5
}
