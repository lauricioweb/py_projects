{
 "cells": [
  {
   "cell_type": "code",
   "execution_count": 2,
   "id": "5c58c4be",
   "metadata": {},
   "outputs": [
    {
     "name": "stdout",
     "output_type": "stream",
     "text": [
      "numero1 é maior que numero2\n"
     ]
    }
   ],
   "source": [
    "#if\n",
    "\n",
    "numero1 = 90\n",
    "numero2 = 12\n",
    "\n",
    "if numero1 > numero2:\n",
    "     print(\"numero1 é maior que numero2\")"
   ]
  },
  {
   "cell_type": "code",
   "execution_count": 6,
   "id": "66eed5ee",
   "metadata": {},
   "outputs": [
    {
     "name": "stdout",
     "output_type": "stream",
     "text": [
      "numero1 e numero2 são iguais\n"
     ]
    }
   ],
   "source": [
    "#elif\n",
    "numero1 = 33\n",
    "numero2 = 33 \n",
    "\n",
    "if numero1 > numero2:\n",
    "    print(\"sim numero1 é maior que numero2\")\n",
    "elif numero1 == numero2:\n",
    "    print(\"numero1 e numero2 são iguais\")\n"
   ]
  },
  {
   "cell_type": "code",
   "execution_count": 15,
   "id": "224fdc23",
   "metadata": {},
   "outputs": [
    {
     "name": "stdout",
     "output_type": "stream",
     "text": [
      "3\n",
      "Qual o numero sorteado ?2\n"
     ]
    },
    {
     "ename": "NameError",
     "evalue": "name 'umero_passado' is not defined",
     "output_type": "error",
     "traceback": [
      "\u001b[0;31m---------------------------------------------------------------------------\u001b[0m",
      "\u001b[0;31mNameError\u001b[0m                                 Traceback (most recent call last)",
      "Cell \u001b[0;32mIn[15], line 12\u001b[0m\n\u001b[1;32m     10\u001b[0m \u001b[38;5;28;01mif\u001b[39;00m numero_passado \u001b[38;5;241m==\u001b[39m numero:\n\u001b[1;32m     11\u001b[0m     \u001b[38;5;28mprint\u001b[39m(\u001b[38;5;124m\"\u001b[39m\u001b[38;5;124mparabens você acertou\u001b[39m\u001b[38;5;124m\"\u001b[39m)\n\u001b[0;32m---> 12\u001b[0m \u001b[38;5;28;01melif\u001b[39;00m umero_passado \u001b[38;5;241m!=\u001b[39m numero:\n\u001b[1;32m     13\u001b[0m     \u001b[38;5;28mprint\u001b[39m(\u001b[38;5;124m\"\u001b[39m\u001b[38;5;124mvocê errou tente novamente\u001b[39m\u001b[38;5;124m\"\u001b[39m)\n\u001b[1;32m     16\u001b[0m numero_passado \u001b[38;5;241m=\u001b[39m \u001b[38;5;28minput\u001b[39m(\u001b[38;5;124m\"\u001b[39m\u001b[38;5;124mQual o numero sorteado ?\u001b[39m\u001b[38;5;124m\"\u001b[39m)\n",
      "\u001b[0;31mNameError\u001b[0m: name 'umero_passado' is not defined"
     ]
    }
   ],
   "source": [
    "#exercicio \n",
    "# encontre o numero\n",
    "import random\n",
    "\n",
    "numero = random.randint(1,10)\n",
    "print(numero)\n",
    "\n",
    "numero_passado = input(\"Qual o numero sorteado ?\")\n",
    "\n",
    "if numero_passado == numero:\n",
    "    print(\"parabens você acertou\")\n",
    "elif umero_passado != numero:\n",
    "    print(\"você errou tente novamente\")\n",
    "    \n",
    "    \n",
    "numero_passado = input(\"Qual o numero sorteado ?\")\n"
   ]
  }
 ],
 "metadata": {
  "kernelspec": {
   "display_name": "Python 3 (ipykernel)",
   "language": "python",
   "name": "python3"
  },
  "language_info": {
   "codemirror_mode": {
    "name": "ipython",
    "version": 3
   },
   "file_extension": ".py",
   "mimetype": "text/x-python",
   "name": "python",
   "nbconvert_exporter": "python",
   "pygments_lexer": "ipython3",
   "version": "3.11.4"
  }
 },
 "nbformat": 4,
 "nbformat_minor": 5
}
