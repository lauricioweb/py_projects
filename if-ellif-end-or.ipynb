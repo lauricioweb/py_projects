{
 "cells": [
  {
   "cell_type": "code",
   "execution_count": 2,
   "id": "5c58c4be",
   "metadata": {},
   "outputs": [
    {
     "name": "stdout",
     "output_type": "stream",
     "text": [
      "numero1 é maior que numero2\n"
     ]
    }
   ],
   "source": [
    "#if\n",
    "\n",
    "numero1 = 90\n",
    "numero2 = 12\n",
    "\n",
    "if numero1 > numero2:\n",
    "     print(\"numero1 é maior que numero2\")"
   ]
  },
  {
   "cell_type": "code",
   "execution_count": 9,
   "id": "66eed5ee",
   "metadata": {},
   "outputs": [
    {
     "name": "stdout",
     "output_type": "stream",
     "text": [
      "numero1 e numero2 são iguais\n"
     ]
    }
   ],
   "source": [
    "#elif\n",
    "numero1 = 33\n",
    "numero2 = 33 \n",
    "\n",
    "if numero1 > numero2:\n",
    "    print(\"sim numero1 é maior que numero2\")\n",
    "elif numero1 == numero2:\n",
    "    print(\"numero1 e numero2 são iguais\")\n"
   ]
  },
  {
   "cell_type": "code",
   "execution_count": 10,
   "id": "224fdc23",
   "metadata": {},
   "outputs": [
    {
     "name": "stdout",
     "output_type": "stream",
     "text": [
      "5\n",
      "você errou tente novamente\n"
     ]
    }
   ],
   "source": [
    "#exercicio \n",
    "# encontre o numero\n",
    "import random\n",
    "\n",
    "numero = random.randint(1,10)\n",
    "print(numero)\n",
    "\n",
    "numero_passado = int(input(\"Qual o numero sorteado ?\"))\n",
    "\n",
    "if numero_passado == numero:\n",
    "    print(\"parabens você acertou\")\n",
    "else:\n",
    "    print(\"você errou tente novamente\")\n",
    "    \n",
    "numero_passado = input(\"Qual o numero sorteado ?\")\n"
   ]
  },
  {
   "cell_type": "code",
   "execution_count": 1,
   "id": "4e15b1d0-5a31-4ca2-88b9-4e2ab8595063",
   "metadata": {},
   "outputs": [
    {
     "name": "stdout",
     "output_type": "stream",
     "text": [
      "qual a sua idade ? 22\n"
     ]
    },
    {
     "name": "stdout",
     "output_type": "stream",
     "text": [
      "voce pode votar\n"
     ]
    }
   ],
   "source": [
    "idade = int(input(\"qual a sua idade ?\"))\n",
    "\n",
    "if idade >= 18:\n",
    "    print(\"voce pode votar\")\n",
    "else:\n",
    "    print(\"voce não pode votar\")"
   ]
  },
  {
   "cell_type": "code",
   "execution_count": 6,
   "id": "829df168-9576-4d81-949b-fb510164e798",
   "metadata": {},
   "outputs": [
    {
     "name": "stdout",
     "output_type": "stream",
     "text": [
      "41 é maior que 5\n"
     ]
    }
   ],
   "source": [
    "# if elif else\n",
    "\n",
    "n1 = 41\n",
    "n2 = 5\n",
    "\n",
    "if n1 > n2:\n",
    "    print(f\"{n1} é maior que {n2}\")\n",
    "elif n1 == n2:\n",
    "    print(f\"{n1} é igual {n2}\")\n",
    "else:\n",
    "   print(f\"{n1} é menor que {n2}\")\n",
    "\n",
    "\n"
   ]
  },
  {
   "cell_type": "code",
   "execution_count": 12,
   "id": "5aab3553-6c7f-4227-b96a-deec620cf116",
   "metadata": {},
   "outputs": [
    {
     "name": "stdout",
     "output_type": "stream",
     "text": [
      "Insira a nota do estudante 22\n"
     ]
    },
    {
     "name": "stdout",
     "output_type": "stream",
     "text": [
      "Insuficiente\n"
     ]
    }
   ],
   "source": [
    "# exercicio nota do estudante\n",
    "\n",
    "nota = int(input(\"Insira a nota do estudante\"))\n",
    "\n",
    "if nota <= 100 and nota >= 90:\n",
    "    print(\"Exelente\")\n",
    "elif nota <= 89 and nota >= 70:\n",
    "    print(\"Bom\")\n",
    "elif nota <= 69 and nota >= 50:\n",
    "    print(\"Satisfatorio\")\n",
    "else:\n",
    "    print(\"Insuficiente\")\n"
   ]
  },
  {
   "cell_type": "code",
   "execution_count": 1,
   "id": "9ab99bc1-1a6c-42c2-a403-bfdf11a7d7ba",
   "metadata": {},
   "outputs": [
    {
     "name": "stdout",
     "output_type": "stream",
     "text": [
      "qual o valor da compra? 500\n"
     ]
    },
    {
     "name": "stdout",
     "output_type": "stream",
     "text": [
      "valor do desconto é R$ 50.00\n",
      "valor final da compra é R$ 450.00\n"
     ]
    }
   ],
   "source": [
    "valor_compra = float(input(\"qual o valor da compra?\"))\n",
    "\n",
    "if valor_compra >= 1000:\n",
    "    desconto = 0.20 * valor_compra\n",
    "\n",
    "elif valor_compra < 1000 and valor_compra >= 500:\n",
    "    desconto = 0.10 * valor_compra\n",
    "\n",
    "else:\n",
    "    desconto = 0 * valor_compra\n",
    "\n",
    "valor_final = valor_compra - desconto\n",
    "print(f\"valor do desconto é R$ {desconto:.2f}\")\n",
    "print(f\"valor final da compra é R$ {valor_final:.2f}\")\n",
    "    \n",
    "    "
   ]
  },
  {
   "cell_type": "code",
   "execution_count": 4,
   "id": "121f58aa-03f7-495e-b4d9-e7582d9bde36",
   "metadata": {},
   "outputs": [
    {
     "name": "stdout",
     "output_type": "stream",
     "text": [
      "voce tem um convite VIP? sim\n",
      "voce esta na lista? ss\n",
      "voce é membro ? ss\n"
     ]
    },
    {
     "name": "stdout",
     "output_type": "stream",
     "text": [
      "bem vindo, aproveite o evento\n"
     ]
    }
   ],
   "source": [
    "# exercicio lista de convidados\n",
    "\n",
    "vip = input(\"voce tem um convite VIP?\")\n",
    "lista = input(\"voce esta na lista?\")\n",
    "membro = input(\"voce é membro ?\")\n",
    "\n",
    "if vip == \"sim\" or lista == \"sim\" or membro == \"sim\":\n",
    "    print(\"bem vindo, aproveite o evento\")\n",
    "else:\n",
    "    print(\"sinto muito, voce nao pode entrar\")\n",
    "\n",
    "\n",
    "\n",
    "    "
   ]
  },
  {
   "cell_type": "code",
   "execution_count": 6,
   "id": "cb455bc5-f87a-4276-9bfd-060a11d6457c",
   "metadata": {},
   "outputs": [
    {
     "name": "stdout",
     "output_type": "stream",
     "text": [
      "Digite um numero 3\n"
     ]
    },
    {
     "name": "stdout",
     "output_type": "stream",
     "text": [
      "numero é impar\n"
     ]
    }
   ],
   "source": [
    "numero = int(input(\"Digite um numero\"))\n",
    "\n",
    "if numero % 2 != 0:\n",
    "    print(\"numero é impar\")\n",
    "else:\n",
    "    print(\"numero é par\")\n",
    "    "
   ]
  },
  {
   "cell_type": "code",
   "execution_count": 9,
   "id": "01e48879-dcb5-4f3a-b84b-f091ec6dbbb6",
   "metadata": {},
   "outputs": [
    {
     "name": "stdout",
     "output_type": "stream",
     "text": [
      "adulto\n"
     ]
    }
   ],
   "source": [
    "# condições ternarias\n",
    "\n",
    "idade = 19\n",
    "\n",
    "status = \"adulto\" if idade >= 18 else \"menor de idade\"\n",
    "print(status)"
   ]
  },
  {
   "cell_type": "code",
   "execution_count": 10,
   "id": "bcf40a24-09cc-4701-a483-84aa842f79bb",
   "metadata": {},
   "outputs": [
    {
     "name": "stdout",
     "output_type": "stream",
     "text": [
      "par\n"
     ]
    }
   ],
   "source": [
    "numero = 2\n",
    "\n",
    "resultado = \"impar\" if numero % 2 != 0 else \"par\"\n",
    "print(resultado)"
   ]
  },
  {
   "cell_type": "code",
   "execution_count": 13,
   "id": "2aa698cb-da53-4f69-a6e7-0ef799ee19be",
   "metadata": {},
   "outputs": [
    {
     "name": "stdout",
     "output_type": "stream",
     "text": [
      "media\n"
     ]
    }
   ],
   "source": [
    "nota = 50\n",
    "\n",
    "resultado = \"baixa\" if nota < 50 else \"media\" if nota < 80  else \"alta\"\n",
    "print(resultado)"
   ]
  }
 ],
 "metadata": {
  "kernelspec": {
   "display_name": "Python 3",
   "language": "python",
   "name": "python3"
  },
  "language_info": {
   "codemirror_mode": {
    "name": "ipython",
    "version": 3
   },
   "file_extension": ".py",
   "mimetype": "text/x-python",
   "name": "python",
   "nbconvert_exporter": "python",
   "pygments_lexer": "ipython3",
   "version": "3.10.12"
  }
 },
 "nbformat": 4,
 "nbformat_minor": 5
}
