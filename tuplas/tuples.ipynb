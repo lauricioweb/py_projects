{
 "cells": [
  {
   "cell_type": "code",
   "execution_count": 3,
   "metadata": {},
   "outputs": [
    {
     "name": "stdout",
     "output_type": "stream",
     "text": [
      "('file de frango', 'carne com batata', 'bife com cebola', 'lazanha', 'feijoada')\n",
      "tupla reescrita:  ('file de porco', 'carne com cebola', 'bife com cebola', 'lazanha', 'feijoada')\n"
     ]
    }
   ],
   "source": [
    "menu = \"file de frango\",\"carne com batata\",\"bife com cebola\",\"lazanha\",\"feijoada\"\n",
    "\n",
    "#menu[0] = \"arroz puro\"\n",
    "print(menu)\n",
    "\n",
    "menu = \"file de porco\",\"carne com cebola\",\"bife com cebola\",\"lazanha\",\"feijoada\"\n",
    "\n",
    "print(\"tupla reescrita: \", menu)"
   ]
  }
 ],
 "metadata": {
  "kernelspec": {
   "display_name": "Python 3",
   "language": "python",
   "name": "python3"
  },
  "language_info": {
   "codemirror_mode": {
    "name": "ipython",
    "version": 3
   },
   "file_extension": ".py",
   "mimetype": "text/x-python",
   "name": "python",
   "nbconvert_exporter": "python",
   "pygments_lexer": "ipython3",
   "version": "3.10.12"
  }
 },
 "nbformat": 4,
 "nbformat_minor": 2
}
