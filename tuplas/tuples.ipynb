{
 "cells": [
  {
   "cell_type": "code",
   "execution_count": 3,
   "metadata": {},
   "outputs": [
    {
     "name": "stdout",
     "output_type": "stream",
     "text": [
      "('file de frango', 'carne com batata', 'bife com cebola', 'lazanha', 'feijoada')\n",
      "tupla reescrita:  ('file de porco', 'carne com cebola', 'bife com cebola', 'lazanha', 'feijoada')\n"
     ]
    }
   ],
   "source": [
    "menu = \"file de frango\",\"carne com batata\",\"bife com cebola\",\"lazanha\",\"feijoada\"\n",
    "\n",
    "#menu[0] = \"arroz puro\"\n",
    "print(menu)\n",
    "\n",
    "menu = \"file de porco\",\"carne com cebola\",\"bife com cebola\",\"lazanha\",\"feijoada\"\n",
    "\n",
    "print(\"tupla reescrita: \", menu)"
   ]
  },
  {
   "cell_type": "code",
   "execution_count": 2,
   "metadata": {},
   "outputs": [
    {
     "name": "stdout",
     "output_type": "stream",
     "text": [
      "('sao paulo', 'goiania', 'sant', 'rio de janeiro', 'angra', 'maceio')\n",
      "------------------------\n",
      "('angra', 'maceio', 'angra', 'maceio', 'angra', 'maceio')\n",
      "--------------------------\n",
      "angra sera visitada\n"
     ]
    }
   ],
   "source": [
    "# operações com tuplas\n",
    "\n",
    "# concatenando tuplas \n",
    "\n",
    "primeiras_cidades = (\"sao paulo\",\"goiania\", \"sant\",\"rio de janeiro\")\n",
    "proximas_cidades = (\"angra\", \"maceio\")\n",
    "\n",
    "roteiro = primeiras_cidades + proximas_cidades\n",
    "print(roteiro)\n",
    "\n",
    "\n",
    "print(\"------------------------\")\n",
    "\n",
    "# repetindo tuplas\n",
    "\n",
    "cidades_favoritas = proximas_cidades * 3\n",
    "print(cidades_favoritas)\n",
    "\n",
    "print(\"--------------------------\")\n",
    "\n",
    "# verificando se um elemento esta na tupla\n",
    "\n",
    "if \"angra\" in proximas_cidades:\n",
    "    print(\"angra sera visitada\")\n",
    "else:\n",
    "    print(\"angra não esta no roteiro\")"
   ]
  },
  {
   "cell_type": "code",
   "execution_count": 5,
   "metadata": {},
   "outputs": [
    {
     "name": "stdout",
     "output_type": "stream",
     "text": [
      "quantidade de um valor em uma tupla\n",
      "3\n",
      "indice do primeiro valor encontrado em uma tupla\n",
      "2\n"
     ]
    }
   ],
   "source": [
    "# metodos de tuplas\n",
    "\n",
    "print(\"quantidade de um valor em uma tupla\")\n",
    "frutas = \"maça\",\"morano\",\"uva\",\"uva\",\"uva\"\n",
    "\n",
    "print(frutas.count(\"uva\"))\n",
    "\n",
    "print(\"indice do primeiro valor encontrado em uma tupla\")\n",
    "print(frutas.index(\"uva\"))"
   ]
  },
  {
   "cell_type": "code",
   "execution_count": 1,
   "metadata": {},
   "outputs": [
    {
     "name": "stdout",
     "output_type": "stream",
     "text": [
      "total de vendas 110 \n",
      " produto mais vendido prod 2\n"
     ]
    }
   ],
   "source": [
    "# retornando multiplos valres em uma funçao\n",
    "\n",
    "produtos = [(22,33),(44,11)]\n",
    "\n",
    "prod_1 = sum(produtos[0])\n",
    "prod_2 = sum(produtos[1])\n",
    "\n",
    "def anlise_prod(prod_1,prod_2):\n",
    "    total = prod_1 + prod_2\n",
    "    top_prod = \"prod1\" if prod_1 > prod_2 else \"prod 2\" \n",
    "    return total, top_prod\n",
    "\n",
    "\n",
    "total, top_prod = anlise_prod(prod_1,prod_2)\n",
    "\n",
    "print(f\"total de vendas {total} \\n produto mais vendido {top_prod}\")"
   ]
  },
  {
   "cell_type": "code",
   "execution_count": 1,
   "metadata": {},
   "outputs": [
    {
     "name": "stdout",
     "output_type": "stream",
     "text": [
      "vendas a 22. vendas b 34\n",
      "vendas a 54. vendas b 26\n",
      "vendas a 92. vendas b 16\n"
     ]
    }
   ],
   "source": [
    "# desistrutrando tuplas em loops\n",
    "\n",
    "vendas = [(22,34),(54,26),(92,16)]\n",
    "\n",
    "for vendas_a,vendas_b in vendas:\n",
    "    print(f\"vendas a {vendas_a}. vendas b {vendas_b}\")\n",
    "    \n"
   ]
  },
  {
   "cell_type": "code",
   "execution_count": null,
   "metadata": {},
   "outputs": [
    {
     "name": "stdout",
     "output_type": "stream",
     "text": [
      "False\n",
      "tuplas de strings e numeros True\n"
     ]
    }
   ],
   "source": [
    "# comparando tuplas\n",
    "\n",
    "#ao compara tuplas cada elemento é comparado individualmente\n",
    "# elemento 1 comparado ao elemento 1 eo 2 ao 2\n",
    "\n",
    "t1 = (1,2)\n",
    "t2 = (1,3)\n",
    "\n",
    "print(t1 > t2)\n",
    "# false\n",
    "\n",
    "# no caso de tuplas de diferentes tamanhos\n",
    "\n",
    "#se a quantidade de items de uma tuplas for menor ela tbm sera considerada menor\n",
    "\n",
    "f1 = (1,\"maça\")\n",
    "f2 = (1,\"banana\")\n",
    "print(\"tuplas de strings e numeros\", f1 > f2) \n",
    "#nesse caso foi comparado as strings em ordem alfbetica f1 é maior pois m vem depois de b"
   ]
  }
 ],
 "metadata": {
  "kernelspec": {
   "display_name": "Python 3",
   "language": "python",
   "name": "python3"
  },
  "language_info": {
   "codemirror_mode": {
    "name": "ipython",
    "version": 3
   },
   "file_extension": ".py",
   "mimetype": "text/x-python",
   "name": "python",
   "nbconvert_exporter": "python",
   "pygments_lexer": "ipython3",
   "version": "3.10.12"
  }
 },
 "nbformat": 4,
 "nbformat_minor": 2
}
