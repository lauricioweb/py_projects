{
 "cells": [
  {
   "cell_type": "code",
   "execution_count": 3,
   "metadata": {},
   "outputs": [
    {
     "name": "stdout",
     "output_type": "stream",
     "text": [
      "('file de frango', 'carne com batata', 'bife com cebola', 'lazanha', 'feijoada')\n",
      "tupla reescrita:  ('file de porco', 'carne com cebola', 'bife com cebola', 'lazanha', 'feijoada')\n"
     ]
    }
   ],
   "source": [
    "menu = \"file de frango\",\"carne com batata\",\"bife com cebola\",\"lazanha\",\"feijoada\"\n",
    "\n",
    "#menu[0] = \"arroz puro\"\n",
    "print(menu)\n",
    "\n",
    "menu = \"file de porco\",\"carne com cebola\",\"bife com cebola\",\"lazanha\",\"feijoada\"\n",
    "\n",
    "print(\"tupla reescrita: \", menu)"
   ]
  },
  {
   "cell_type": "code",
   "execution_count": 6,
   "metadata": {},
   "outputs": [
    {
     "name": "stdout",
     "output_type": "stream",
     "text": [
      "('sao paulo', 'goiania', 'sant', 'rio de janeiro', 'angra', 'maceio')\n",
      "------------------------\n",
      "('angra', 'maceio', 'angra', 'maceio', 'angra', 'maceio')\n",
      "--------------------------\n",
      "angra sera visitada\n"
     ]
    }
   ],
   "source": [
    "# operações com tuplas\n",
    "\n",
    "# concatenando tuplas \n",
    "\n",
    "primeiras_cidades = (\"sao paulo\",\"goiania\", \"sant\",\"rio de janeiro\")\n",
    "proximas_cidades = (\"angra\", \"maceio\")\n",
    "\n",
    "roteiro = primeiras_cidades + proximas_cidades\n",
    "print(roteiro)\n",
    "\n",
    "\n",
    "print(\"------------------------\")\n",
    "\n",
    "# repetindo tuplas\n",
    "\n",
    "cidades_favoritas = proximas_cidades * 3\n",
    "print(cidades_favoritas)\n",
    "\n",
    "print(\"--------------------------\")\n",
    "\n",
    "# verificando se um elemento esta na tupla\n",
    "\n",
    "if \"angra\" in proximas_cidades:\n",
    "    print(\"angra sera visitada\")\n",
    "else:\n",
    "    print(\"angra não esta no roteiro\")"
   ]
  }
 ],
 "metadata": {
  "kernelspec": {
   "display_name": "Python 3",
   "language": "python",
   "name": "python3"
  },
  "language_info": {
   "codemirror_mode": {
    "name": "ipython",
    "version": 3
   },
   "file_extension": ".py",
   "mimetype": "text/x-python",
   "name": "python",
   "nbconvert_exporter": "python",
   "pygments_lexer": "ipython3",
   "version": "3.10.12"
  }
 },
 "nbformat": 4,
 "nbformat_minor": 2
}
