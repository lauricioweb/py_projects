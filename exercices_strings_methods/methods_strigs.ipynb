{
 "cells": [
  {
   "cell_type": "code",
   "execution_count": 8,
   "id": "abce8cb1",
   "metadata": {},
   "outputs": [
    {
     "name": "stdout",
     "output_type": "stream",
     "text": [
      "maria silva\n",
      "meu nome é maria silva e tenho 30 anos\n"
     ]
    }
   ],
   "source": [
    "nome = \"maria\"\n",
    "sobrenome = \"silva\"\n",
    "idade = 30\n",
    "\n",
    "nome_sobrenome = nome + \" \" + sobrenome\n",
    "print(nome_sobrenome)\n",
    "mensagem = f\"meu nome é {nome} {sobrenome} e tenho {idade} anos\"\n",
    "print(mensagem)"
   ]
  },
  {
   "cell_type": "code",
   "execution_count": 6,
   "id": "00aab187",
   "metadata": {},
   "outputs": [
    {
     "name": "stdout",
     "output_type": "stream",
     "text": [
      "58\n",
      "PYTHON É UMA LINGUAGEM DE PROGRAMAÇÃO VERSÁTIL E INCRIVEL.\n",
      "python\n"
     ]
    }
   ],
   "source": [
    "frase = \"python é uma linguagem de programação versátil e poderosa.\"\n",
    "frase = frase.replace(\"poderosa\", \"incrivel\")\n",
    "tamanho_frase = len(frase)\n",
    "print(tamanho_frase)\n",
    "\n",
    "frase_maiuscula = frase.upper()\n",
    "print(frase_maiuscula)\n",
    "\n",
    "palavra = frase.split();\n",
    "palavra = palavra[0];\n",
    "print(palavra)\n",
    "\n"
   ]
  }
 ],
 "metadata": {
  "kernelspec": {
   "display_name": "Python 3 (ipykernel)",
   "language": "python",
   "name": "python3"
  },
  "language_info": {
   "codemirror_mode": {
    "name": "ipython",
    "version": 3
   },
   "file_extension": ".py",
   "mimetype": "text/x-python",
   "name": "python",
   "nbconvert_exporter": "python",
   "pygments_lexer": "ipython3",
   "version": "3.11.4"
  }
 },
 "nbformat": 4,
 "nbformat_minor": 5
}
