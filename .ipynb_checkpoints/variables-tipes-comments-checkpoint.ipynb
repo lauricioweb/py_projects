{
 "cells": [
  {
   "cell_type": "code",
   "execution_count": 6,
   "id": "64d0c49d",
   "metadata": {},
   "outputs": [
    {
     "name": "stdout",
     "output_type": "stream",
     "text": [
      "inteiro: 33\n",
      "flutuante: 33.2\n",
      "complexo: (3+2j)\n",
      "string: lauricio és boim\n",
      "lista: [1, 2, 3]\n",
      "tupla: (1, 2, 3)\n",
      "conjunto: {2, 3, 4}\n",
      "dicionario {'chave': 'valor'}\n",
      "Booleano: True\n",
      "nonetyope None\n"
     ]
    }
   ],
   "source": [
    "#comentatio \n",
    "\"\"\"\n",
    "comentando muitas linjhas\n",
    "\"\"\"\n",
    "\n",
    "#tipo inteiro (int);\n",
    "inteiro = 33;\n",
    "\n",
    "#tipo flutuante (float);\n",
    "flutuante = 33.2;\n",
    "\n",
    "#tipo complexo (complex);\n",
    "complexo = 3 + 2j;\n",
    "\n",
    "#tipo string (str);\n",
    "texto = \"lauricio és boim\";\n",
    "\n",
    "print(\"inteiro:\", inteiro);\n",
    "print(\"flutuante:\", flutuante);\n",
    "print(\"complexo:\", complexo);\n",
    "print(\"string:\", texto);\n",
    "\n",
    "\n",
    "#listas arrays (list);\n",
    "#são uma coleção ordenada de valores mutaveis acessadas por chave e valor;\n",
    "lista = [1,2,3];\n",
    "\n",
    "print(\"lista:\", lista);\n",
    "\n",
    "#tuplas (tuple) iuma coleção ordenada de valores imultaveis;\n",
    "tupla = (1,2,3);\n",
    "\n",
    "print (\"tupla:\", tupla);\n",
    "\n",
    "#conjunto (set) ima coleção de valores nao ordenada de intens unicos;\n",
    "conjunto = {2,4,3}\n",
    "\n",
    "print(\"conjunto:\", conjunto);\n",
    "\n",
    "#dicionario (dict) uma coleção nao ordenada de pares chave-valor\n",
    "dicionario = {\"chave\":\"valor\"}\n",
    "\n",
    "print(\"dicionario\", dicionario);\n",
    "\n",
    "#boleanos (bool) valoreso verdadeiro ou falso;\n",
    "booleano = True;\n",
    "\n",
    "print(\"Booleano:\", booleano);\n",
    "\n",
    "#noneType (None) um tipo especial que representa ausencia de valor;\n",
    "nenhum = None;\n",
    "print(\"nonetyope\", nenhum);\n",
    "\n",
    "\n"
   ]
  },
  {
   "cell_type": "code",
   "execution_count": 9,
   "id": "ae4bd925",
   "metadata": {},
   "outputs": [
    {
     "name": "stdout",
     "output_type": "stream",
     "text": [
      "lauricio 22\n",
      "<class 'str'>\n",
      "<class 'int'>\n"
     ]
    },
    {
     "data": {
      "text/plain": [
       "'\\numa variavel pode ser declarada definindo seu tipo previamentei =>  nome = str(\"lauricio\");\\n\\no tipo de uma variavel pode ser alerado usando str()\\n=> idade = str(34);\\n\\na variavel acima mesmo sendo um numero sera interpretada como um numero;\\n\\n'"
      ]
     },
     "execution_count": 9,
     "metadata": {},
     "output_type": "execute_result"
    }
   ],
   "source": [
    "#OBTENDO O TIPO DE UMA VARIAVEL (TYPE);\n",
    "\n",
    "nome = \"lauricio\";\n",
    "idade = 22;\n",
    "\n",
    "print(nome,idade);\n",
    "print(type(nome));\n",
    "print(type(idade));\n",
    "\n",
    "\"\"\"\n",
    "uma variavel pode ser declarada definindo seu tipo previamentei =>  nome = str(\"lauricio\");\n",
    "\n",
    "o tipo de uma variavel pode ser alerado usando str()\n",
    "=> idade = str(34);\n",
    "\n",
    "a variavel acima mesmo sendo um numero sera interpretada como um numero;\n",
    "\n",
    "\"\"\""
   ]
  },
  {
   "cell_type": "code",
   "execution_count": null,
   "id": "50adc764",
   "metadata": {},
   "outputs": [],
   "source": []
  }
 ],
 "metadata": {
  "kernelspec": {
   "display_name": "Python 3 (ipykernel)",
   "language": "python",
   "name": "python3"
  },
  "language_info": {
   "codemirror_mode": {
    "name": "ipython",
    "version": 3
   },
   "file_extension": ".py",
   "mimetype": "text/x-python",
   "name": "python",
   "nbconvert_exporter": "python",
   "pygments_lexer": "ipython3",
   "version": "3.11.4"
  }
 },
 "nbformat": 4,
 "nbformat_minor": 5
}
