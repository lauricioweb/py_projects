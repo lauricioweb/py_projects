{
 "cells": [
  {
   "cell_type": "code",
   "execution_count": 3,
   "id": "1817e9b0",
   "metadata": {},
   "outputs": [
    {
     "name": "stdout",
     "output_type": "stream",
     "text": [
      "inteiro: 33\n",
      "flutuante: 33.2\n",
      "complexo: (3+2j)\n",
      "string: lauricio és boim\n",
      "lista: [1, 2, 3]\n"
     ]
    }
   ],
   "source": [
    "#comentatio \n",
    "\"\"\"\n",
    "comentando muitas linjhas\n",
    "\"\"\"\n",
    "\n",
    "#tipo inteiro (int);\n",
    "inteiro = 33;\n",
    "\n",
    "#tipo flutuante (float);\n",
    "flutuante = 33.2;\n",
    "\n",
    "#tipo complexo (complex);\n",
    "complexo = 3 + 2j;\n",
    "\n",
    "#tipo string (str);\n",
    "texto = \"lauricio és boim\";\n",
    "\n",
    "print(\"inteiro:\", inteiro);\n",
    "print(\"flutuante:\", flutuante);\n",
    "print(\"complexo:\", complexo);\n",
    "print(\"string:\", texto);\n",
    "\n",
    "\n",
    "#listas arrays (list);\n",
    "#são uma coleção ordenada de valores mutaveis acessadas por chave e valor;\n",
    "lista = [1,2,3];\n",
    "\n",
    "print(\"lista:\", lista);\n"
   ]
  },
  {
   "cell_type": "code",
   "execution_count": null,
   "id": "d796be96",
   "metadata": {},
   "outputs": [],
   "source": []
  }
 ],
 "metadata": {
  "kernelspec": {
   "display_name": "Python 3 (ipykernel)",
   "language": "python",
   "name": "python3"
  },
  "language_info": {
   "codemirror_mode": {
    "name": "ipython",
    "version": 3
   },
   "file_extension": ".py",
   "mimetype": "text/x-python",
   "name": "python",
   "nbconvert_exporter": "python",
   "pygments_lexer": "ipython3",
   "version": "3.11.4"
  }
 },
 "nbformat": 4,
 "nbformat_minor": 5
}
