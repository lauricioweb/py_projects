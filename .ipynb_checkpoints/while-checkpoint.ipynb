{
 "cells": [
  {
   "cell_type": "code",
   "execution_count": 8,
   "id": "65292f82-d392-40bb-8467-fb56c58da7ab",
   "metadata": {},
   "outputs": [
    {
     "name": "stdout",
     "output_type": "stream",
     "text": [
      "0\n",
      "l\n",
      "1\n",
      "a\n",
      "2\n",
      "u\n",
      "3\n",
      "r\n",
      "4\n",
      "i\n",
      "5\n",
      "c\n",
      "6\n",
      "i\n",
      "7\n",
      "o\n"
     ]
    }
   ],
   "source": [
    "# estrutura de repetição\n",
    "\n",
    "numero = 0\n",
    "nome = \"lauricio\"\n",
    "\n",
    "while numero <= len(nome) - 1:\n",
    "    print(numero)\n",
    "    print(nome[numero])\n",
    "    numero += 1\n",
    "    "
   ]
  },
  {
   "cell_type": "code",
   "execution_count": 9,
   "id": "ca2d3f39-d4fd-4c5a-9497-06a636584b01",
   "metadata": {},
   "outputs": [
    {
     "name": "stdout",
     "output_type": "stream",
     "text": [
      "0\n",
      "2\n",
      "4\n",
      "6\n",
      "8\n",
      "todos os numero inpressos\n"
     ]
    }
   ],
   "source": [
    "numero = 0\n",
    "\n",
    "while numero < 10:\n",
    "    print(numero)\n",
    "    numero += 2\n",
    "\n",
    "else: # else sera execultado apos sair do loop\n",
    "    print(\"todos os numero inpressos\")\n",
    "    "
   ]
  }
 ],
 "metadata": {
  "kernelspec": {
   "display_name": "Python 3 (ipykernel)",
   "language": "python",
   "name": "python3"
  },
  "language_info": {
   "codemirror_mode": {
    "name": "ipython",
    "version": 3
   },
   "file_extension": ".py",
   "mimetype": "text/x-python",
   "name": "python",
   "nbconvert_exporter": "python",
   "pygments_lexer": "ipython3",
   "version": "3.10.12"
  }
 },
 "nbformat": 4,
 "nbformat_minor": 5
}
