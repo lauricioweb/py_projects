{
 "cells": [
  {
   "cell_type": "code",
   "execution_count": null,
   "metadata": {
    "vscode": {
     "languageId": "plaintext"
    }
   },
   "outputs": [],
   "source": [
    "senha = \"123\"\n",
    "senhaDigitada = input(\"digite sua senha\");\n",
    "while (senha != senhaDigitada) :\n",
    "   print(\"senha incorreta, tente novamente\")\n",
    "   senhaDigitada = input(\"digite sua senha\")\n",
    "print(\"seja bem vindo\")\n",
    "  "
   ]
  }
 ],
 "metadata": {
  "language_info": {
   "name": "python"
  }
 },
 "nbformat": 4,
 "nbformat_minor": 2
}
