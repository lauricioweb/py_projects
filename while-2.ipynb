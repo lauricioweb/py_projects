{
 "cells": [
  {
   "cell_type": "markdown",
   "metadata": {},
   "source": [
    "- nao saira do loop enquanto nao for digitada a senha correta\n"
   ]
  },
  {
   "cell_type": "code",
   "execution_count": 2,
   "metadata": {},
   "outputs": [
    {
     "name": "stdout",
     "output_type": "stream",
     "text": [
      "senha incorreta, tente novamente\n",
      "senha incorreta, tente novamente\n",
      "senha incorreta, tente novamente\n",
      "senha incorreta, tente novamente\n",
      "senha incorreta, tente novamente\n",
      "seja bem vindo\n"
     ]
    }
   ],
   "source": [
    "senha = \"123\"\n",
    "senhaDigitada = input(\"digite sua senha\")\n",
    "while (senha != senhaDigitada) :\n",
    "   print(\"senha incorreta, tente novamente\")\n",
    "   senhaDigitada = input(\"digite sua senha\")\n",
    "print(\"seja bem vindo\")\n"
   ]
  },
  {
   "cell_type": "code",
   "execution_count": 1,
   "metadata": {},
   "outputs": [
    {
     "name": "stdout",
     "output_type": "stream",
     "text": [
      "94\n",
      "numero sorteado é maior, tente novamente\n",
      "numero sorteado é maior, tente novamente\n",
      "numero sorteado é maior, tente novamente\n",
      "numero sorteado é maior, tente novamente\n",
      "numero sorteado é menor, tente novamente\n",
      "numero sorteado é menor, tente novamente\n",
      "numero sorteado é maior, tente novamente\n",
      "numero sorteado é menor, tente novamente\n",
      "voce acertou o numero sorteado é 94 tentativas 9\n"
     ]
    }
   ],
   "source": [
    "import random\n",
    "\n",
    "numeroSorteado = random.randint(1,100); \n",
    "tentativas = 0\n",
    "print(numeroSorteado)\n",
    "\n",
    "while True:\n",
    "  \n",
    "  numeroDigitado = int(input(\"digite o numero sortedo\"))\n",
    "  tentativas += 1\n",
    "\n",
    "  if numeroDigitado < numeroSorteado:\n",
    "\n",
    "    print(\"numero sorteado é maior, tente novamente\")\n",
    "\n",
    "  elif numeroDigitado > numeroSorteado:\n",
    "\n",
    "    print(\"numero sorteado é menor, tente novamente\")\n",
    "\n",
    "  else:\n",
    "\n",
    "    print(f\"voce acertou o numero sorteado é {numeroSorteado} tentativas {tentativas}\")\n",
    "\n",
    "    break"
   ]
  },
  {
   "cell_type": "code",
   "execution_count": 5,
   "metadata": {},
   "outputs": [
    {
     "name": "stdout",
     "output_type": "stream",
     "text": [
      "20\n"
     ]
    }
   ],
   "source": [
    "numerosInteiro = 0\n",
    "\n",
    "while True:\n",
    "    \n",
    "  numeroDigitado = int(input(\"digite um numero inteiro\"))\n",
    "\n",
    "  if numeroDigitado != 0:\n",
    "    \n",
    "    numerosInteiro += numeroDigitado\n",
    "\n",
    "  else: \n",
    "\n",
    "    print(numerosInteiro)\n",
    "\n",
    "    break"
   ]
  },
  {
   "cell_type": "code",
   "execution_count": 9,
   "metadata": {},
   "outputs": [
    {
     "name": "stdout",
     "output_type": "stream",
     "text": [
      "maior numero digitado 10\n",
      "maior numero digitado 20\n",
      "maior numero digitado 220\n",
      "maior numero digitado 300\n",
      "maior numero digitado 300\n"
     ]
    }
   ],
   "source": [
    "maiorNumero = 0\n",
    "\n",
    "while True:\n",
    "  \n",
    "  numeroDigitado = int(input(\"Digite um numero inteiro positivo: ou numero negativo para encerrar\"))\n",
    "\n",
    "  if numeroDigitado > maiorNumero:\n",
    "    maiorNumero = numeroDigitado\n",
    "    print(f\"maior numero digitado {maiorNumero}\")\n",
    "    \n",
    "  elif numeroDigitado < 0:\n",
    "    \n",
    "    print(f\"maior numero digitado {maiorNumero}\")\n",
    "\n",
    "    break\n",
    "\n"
   ]
  },
  {
   "cell_type": "code",
   "execution_count": 1,
   "metadata": {},
   "outputs": [
    {
     "name": "stdout",
     "output_type": "stream",
     "text": [
      "deposito concluido com sucesso\n",
      "seu saldo é R$242.00\n",
      "saldo insuficiente \n",
      "saldo atual R$242.00\n",
      "operacao finalizada\n"
     ]
    }
   ],
   "source": [
    "# simulação caixa eletronico\n",
    "\n",
    "saldo = 220\n",
    "\n",
    "\n",
    "\n",
    "while True:\n",
    "\n",
    "# opções \n",
    "  operacao = float(input(\"qual operação voce deseja realizar: \\n1- verificar saldo \\n2- Depositar \\n3- sacar \\n4- sair\"))\n",
    "  \n",
    "  if operacao == 1:\n",
    "\n",
    "    print(f\"seu saldo é R${saldo:.2f}\")\n",
    "   \n",
    "\n",
    "  elif operacao == 2:\n",
    "  \n",
    "    deposito = float(input(\"insira o valor a ser depositado: \"))\n",
    "    saldo += deposito\n",
    "    print(\"deposito concluido com sucesso\")\n",
    "    print(f\"seu saldo é R${saldo:.2f}\")\n",
    "    operacao = int(input(\"qual operação voce deseja realizar: \\n1- verificar saldo \\n 2- Depositar \\n 3- sacar \\n 4- sair\"))\n",
    "\n",
    "  elif operacao == 3:\n",
    "    \n",
    "    valorSaque = float(input(\"insira o valor a ser sacado: \"))\n",
    "\n",
    "    if valorSaque > saldo:\n",
    "\n",
    "      print(\"saldo insuficiente \")\n",
    "      print(f\"saldo atual R${saldo:.2f}\")\n",
    "     \n",
    "    \n",
    "    else:\n",
    "      saldo -= valorSaque\n",
    "      print(\"saque concluido com sucesso\")\n",
    "      print(f\"seu saldo é R${saldo:.2f}\")\n",
    "       \n",
    "\n",
    "  elif operacao == 4:\n",
    "   print(\"operacao finalizada\")\n",
    "   break  \n",
    "\n",
    "  else:\n",
    "    print(\"Operação invalida\")\n",
    "     \n",
    "\n"
   ]
  },
  {
   "cell_type": "code",
   "execution_count": null,
   "metadata": {},
   "outputs": [],
   "source": []
  }
 ],
 "metadata": {
  "kernelspec": {
   "display_name": "Python 3",
   "language": "python",
   "name": "python3"
  },
  "language_info": {
   "codemirror_mode": {
    "name": "ipython",
    "version": 3
   },
   "file_extension": ".py",
   "mimetype": "text/x-python",
   "name": "python",
   "nbconvert_exporter": "python",
   "pygments_lexer": "ipython3",
   "version": "3.10.12"
  }
 },
 "nbformat": 4,
 "nbformat_minor": 2
}
